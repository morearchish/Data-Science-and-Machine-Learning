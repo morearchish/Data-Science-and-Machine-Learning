{
 "cells": [
  {
   "cell_type": "code",
   "execution_count": 1,
   "id": "73e4c68d",
   "metadata": {},
   "outputs": [],
   "source": [
    "import numpy as np"
   ]
  },
  {
   "cell_type": "code",
   "execution_count": 2,
   "id": "7e37e139",
   "metadata": {},
   "outputs": [],
   "source": [
    "import pandas as pd\n",
    "import matplotlib.pyplot as plt"
   ]
  },
  {
   "cell_type": "code",
   "execution_count": 3,
   "id": "d9e757cc",
   "metadata": {},
   "outputs": [],
   "source": [
    "from sklearn.datasets import make_blobs"
   ]
  },
  {
   "cell_type": "code",
   "execution_count": 4,
   "id": "829ca86b",
   "metadata": {},
   "outputs": [],
   "source": [
    "X,y=make_blobs(centers=3,random_state=42)  # this y is of no use "
   ]
  },
  {
   "cell_type": "code",
   "execution_count": 5,
   "id": "4425cb02",
   "metadata": {},
   "outputs": [],
   "source": [
    "import seaborn as sns"
   ]
  },
  {
   "cell_type": "code",
   "execution_count": 6,
   "id": "f4f22655",
   "metadata": {},
   "outputs": [
    {
     "name": "stderr",
     "output_type": "stream",
     "text": [
      "c:\\users\\archi\\appdata\\local\\programs\\python\\python39\\lib\\site-packages\\seaborn\\_decorators.py:36: FutureWarning: Pass the following variables as keyword args: x, y. From version 0.12, the only valid positional argument will be `data`, and passing other arguments without an explicit keyword will result in an error or misinterpretation.\n",
      "  warnings.warn(\n"
     ]
    },
    {
     "data": {
      "text/plain": [
       "<AxesSubplot:>"
      ]
     },
     "execution_count": 6,
     "metadata": {},
     "output_type": "execute_result"
    },
    {
     "data": {
      "image/png": "[encoded data removed]",
      "text/plain": [
       "<Figure size 432x288 with 1 Axes>"
      ]
     },
     "metadata": {
      "needs_background": "light"
     },
     "output_type": "display_data"
    }
   ],
   "source": [
    "sns.scatterplot(X[:,0],X[:,1],hue=y)"
   ]
  },
  {
   "cell_type": "code",
   "execution_count": 7,
   "id": "4f5b46e7",
   "metadata": {},
   "outputs": [],
   "source": [
    "from sklearn.cluster import KMeans"
   ]
  },
  {
   "cell_type": "code",
   "execution_count": 8,
   "id": "16bcb2fc",
   "metadata": {},
   "outputs": [],
   "source": [
    "model=KMeans(n_clusters=2)"
   ]
  },
  {
   "cell_type": "code",
   "execution_count": 9,
   "id": "fe3c9961",
   "metadata": {},
   "outputs": [
    {
     "data": {
      "text/html": [
       "<style>#sk-container-id-1 {color: black;background-color: white;}#sk-container-id-1 pre{padding: 0;}#sk-container-id-1 div.sk-toggleable {background-color: white;}#sk-container-id-1 label.sk-toggleable__label {cursor: pointer;display: block;width: 100%;margin-bottom: 0;padding: 0.3em;box-sizing: border-box;text-align: center;}#sk-container-id-1 label.sk-toggleable__label-arrow:before {content: \"▸\";float: left;margin-right: 0.25em;color: #696969;}#sk-container-id-1 label.sk-toggleable__label-arrow:hover:before {color: black;}#sk-container-id-1 div.sk-estimator:hover label.sk-toggleable__label-arrow:before {color: black;}#sk-container-id-1 div.sk-toggleable__content {max-height: 0;max-width: 0;overflow: hidden;text-align: left;background-color: #f0f8ff;}#sk-container-id-1 div.sk-toggleable__content pre {margin: 0.2em;color: black;border-radius: 0.25em;background-color: #f0f8ff;}#sk-container-id-1 input.sk-toggleable__control:checked~div.sk-toggleable__content {max-height: 200px;max-width: 100%;overflow: auto;}#sk-container-id-1 input.sk-toggleable__control:checked~label.sk-toggleable__label-arrow:before {content: \"▾\";}#sk-container-id-1 div.sk-estimator input.sk-toggleable__control:checked~label.sk-toggleable__label {background-color: #d4ebff;}#sk-container-id-1 div.sk-label input.sk-toggleable__control:checked~label.sk-toggleable__label {background-color: #d4ebff;}#sk-container-id-1 input.sk-hidden--visually {border: 0;clip: rect(1px 1px 1px 1px);clip: rect(1px, 1px, 1px, 1px);height: 1px;margin: -1px;overflow: hidden;padding: 0;position: absolute;width: 1px;}#sk-container-id-1 div.sk-estimator {font-family: monospace;background-color: #f0f8ff;border: 1px dotted black;border-radius: 0.25em;box-sizing: border-box;margin-bottom: 0.5em;}#sk-container-id-1 div.sk-estimator:hover {background-color: #d4ebff;}#sk-container-id-1 div.sk-parallel-item::after {content: \"\";width: 100%;border-bottom: 1px solid gray;flex-grow: 1;}#sk-container-id-1 div.sk-label:hover label.sk-toggleable__label {background-color: #d4ebff;}#sk-container-id-1 div.sk-serial::before {content: \"\";position: absolute;border-left: 1px solid gray;box-sizing: border-box;top: 0;bottom: 0;left: 50%;z-index: 0;}#sk-container-id-1 div.sk-serial {display: flex;flex-direction: column;align-items: center;background-color: white;padding-right: 0.2em;padding-left: 0.2em;position: relative;}#sk-container-id-1 div.sk-item {position: relative;z-index: 1;}#sk-container-id-1 div.sk-parallel {display: flex;align-items: stretch;justify-content: center;background-color: white;position: relative;}#sk-container-id-1 div.sk-item::before, #sk-container-id-1 div.sk-parallel-item::before {content: \"\";position: absolute;border-left: 1px solid gray;box-sizing: border-box;top: 0;bottom: 0;left: 50%;z-index: -1;}#sk-container-id-1 div.sk-parallel-item {display: flex;flex-direction: column;z-index: 1;position: relative;background-color: white;}#sk-container-id-1 div.sk-parallel-item:first-child::after {align-self: flex-end;width: 50%;}#sk-container-id-1 div.sk-parallel-item:last-child::after {align-self: flex-start;width: 50%;}#sk-container-id-1 div.sk-parallel-item:only-child::after {width: 0;}#sk-container-id-1 div.sk-dashed-wrapped {border: 1px dashed gray;margin: 0 0.4em 0.5em 0.4em;box-sizing: border-box;padding-bottom: 0.4em;background-color: white;}#sk-container-id-1 div.sk-label label {font-family: monospace;font-weight: bold;display: inline-block;line-height: 1.2em;}#sk-container-id-1 div.sk-label-container {text-align: center;}#sk-container-id-1 div.sk-container {/* jupyter's `normalize.less` sets `[hidden] { display: none; }` but bootstrap.min.css set `[hidden] { display: none !important; }` so we also need the `!important` here to be able to override the default hidden behavior on the sphinx rendered scikit-learn.org. See: https://github.com/scikit-learn/scikit-learn/issues/21755 */display: inline-block !important;position: relative;}#sk-container-id-1 div.sk-text-repr-fallback {display: none;}</style><div id=\"sk-container-id-1\" class=\"sk-top-container\"><div class=\"sk-text-repr-fallback\"><pre>KMeans(n_clusters=2)</pre><b>In a Jupyter environment, please rerun this cell to show the HTML representation or trust the notebook. <br />On GitHub, the HTML representation is unable to render, please try loading this page with nbviewer.org.</b></div><div class=\"sk-container\" hidden><div class=\"sk-item\"><div class=\"sk-estimator sk-toggleable\"><input class=\"sk-toggleable__control sk-hidden--visually\" id=\"sk-estimator-id-1\" type=\"checkbox\" checked><label for=\"sk-estimator-id-1\" class=\"sk-toggleable__label sk-toggleable__label-arrow\">KMeans</label><div class=\"sk-toggleable__content\"><pre>KMeans(n_clusters=2)</pre></div></div></div></div></div>"
      ],
      "text/plain": [
       "KMeans(n_clusters=2)"
      ]
     },
     "execution_count": 9,
     "metadata": {},
     "output_type": "execute_result"
    }
   ],
   "source": [
    "model.fit(X)"
   ]
  },
  {
   "cell_type": "code",
   "execution_count": 10,
   "id": "8302b74c",
   "metadata": {},
   "outputs": [],
   "source": [
    "y_gen=model.labels_"
   ]
  },
  {
   "cell_type": "code",
   "execution_count": 11,
   "id": "4892a021",
   "metadata": {},
   "outputs": [
    {
     "data": {
      "text/plain": [
       "array([1, 0, 0, 0, 1, 0, 0, 0, 0, 0, 0, 1, 1, 0, 0, 1, 1, 0, 1, 1, 0, 1,\n",
       "       1, 0, 0, 0, 0, 1, 1, 1, 1, 0, 0, 1, 0, 0, 0, 0, 0, 0, 1, 0, 0, 0,\n",
       "       0, 0, 1, 1, 1, 0, 0, 0, 0, 1, 1, 1, 0, 0, 0, 0, 1, 0, 1, 0, 1, 1,\n",
       "       0, 1, 0, 0, 0, 1, 1, 0, 0, 1, 0, 1, 0, 0, 0, 0, 0, 1, 0, 0, 0, 0,\n",
       "       0, 0, 0, 0, 0, 0, 0, 0, 0, 0, 1, 0])"
      ]
     },
     "execution_count": 11,
     "metadata": {},
     "output_type": "execute_result"
    }
   ],
   "source": [
    "y_gen    # this y is generated from the data that we feed into the model"
   ]
  },
  {
   "cell_type": "code",
   "execution_count": 12,
   "id": "de948ca0",
   "metadata": {},
   "outputs": [
    {
     "name": "stderr",
     "output_type": "stream",
     "text": [
      "c:\\users\\archi\\appdata\\local\\programs\\python\\python39\\lib\\site-packages\\seaborn\\_decorators.py:36: FutureWarning: Pass the following variables as keyword args: x, y. From version 0.12, the only valid positional argument will be `data`, and passing other arguments without an explicit keyword will result in an error or misinterpretation.\n",
      "  warnings.warn(\n"
     ]
    },
    {
     "data": {
      "text/plain": [
       "<AxesSubplot:>"
      ]
     },
     "execution_count": 12,
     "metadata": {},
     "output_type": "execute_result"
    },
    {
     "data": {
      "image/png": "[encoded data removed]",
      "text/plain": [
       "<Figure size 432x288 with 1 Axes>"
      ]
     },
     "metadata": {
      "needs_background": "light"
     },
     "output_type": "display_data"
    }
   ],
   "source": [
    "sns.scatterplot(X[:,0],X[:,1],hue=y_gen)"
   ]
  },
  {
   "cell_type": "code",
   "execution_count": 13,
   "id": "c7d069d3",
   "metadata": {},
   "outputs": [
    {
     "data": {
      "text/plain": [
       "array([[ 0.86236563,  5.48955564],\n",
       "       [-6.95170962, -6.67621669]])"
      ]
     },
     "execution_count": 13,
     "metadata": {},
     "output_type": "execute_result"
    }
   ],
   "source": [
    "model.cluster_centers_"
   ]
  },
  {
   "cell_type": "code",
   "execution_count": 14,
   "id": "d792b8fc",
   "metadata": {},
   "outputs": [],
   "source": [
    "x=X[:,1].reshape(-1,1)"
   ]
  },
  {
   "cell_type": "code",
   "execution_count": 21,
   "id": "1734e4c7",
   "metadata": {},
   "outputs": [
    {
     "data": {
      "text/plain": [
       "array([-8.39495682,  0.74230537,  9.55684617,  0.57131862, -6.31932507,\n",
       "        1.40687195,  9.98983126,  2.33028226,  2.94181467,  9.38998415,\n",
       "        9.12520872, -5.57296684, -6.58312492,  7.8180795 ,  9.18565441,\n",
       "       -6.39763718, -6.05292634, 10.01781903, -6.72638449, -6.95293851,\n",
       "        8.54855637, -6.53895762, -6.0237108 , 10.55232269, 10.57892978,\n",
       "       10.07140835,  1.55252436, -7.73726715, -6.09302499, -8.20056621,\n",
       "       -6.6478559 ,  2.23422496,  2.27471703, -7.70079191,  9.78172086,\n",
       "        8.72259238,  7.58953794,  8.62920385,  2.30192079, -0.01439923,\n",
       "       -7.81793463,  8.82862715,  0.80449165,  9.21114736,  8.71318243,\n",
       "        2.44676211, -6.69547573, -6.49479221, -5.42657552,  1.47141264,\n",
       "        2.79507219,  1.73858255, 10.37052616, -6.09828672, -4.98331661,\n",
       "       -6.1661091 ,  9.32853346,  7.10100588,  1.45489947,  8.4519986 ,\n",
       "       -7.59446101,  1.64550754, -7.63384576,  1.94665581, -4.15994043,\n",
       "       -8.12584837,  4.4364118 , -7.69591988,  2.48643712,  1.89872377,\n",
       "        1.17089241, -6.53366138, -6.22355598,  7.25124597,  1.46969403,\n",
       "       -6.46732867,  1.06378223, -8.02307989,  2.1477475 ,  2.04173266,\n",
       "        8.36916637,  1.65110817,  7.79344248, -6.40627667,  7.9565752 ,\n",
       "        7.054616  ,  8.78850983,  3.52310409,  8.29444192,  0.50965474,\n",
       "        1.67416233,  2.72510272,  7.60198243,  4.16362531, 10.86656431,\n",
       "        9.62596242,  9.94556625,  2.37722054, -5.82630754,  8.70507375])"
      ]
     },
     "execution_count": 21,
     "metadata": {},
     "output_type": "execute_result"
    }
   ],
   "source": [
    "X[:,1]"
   ]
  },
  {
   "cell_type": "code",
   "execution_count": 22,
   "id": "065cfce6",
   "metadata": {},
   "outputs": [
    {
     "data": {
      "text/plain": [
       "array([[-8.39495682],\n",
       "       [ 0.74230537],\n",
       "       [ 9.55684617],\n",
       "       [ 0.57131862],\n",
       "       [-6.31932507],\n",
       "       [ 1.40687195],\n",
       "       [ 9.98983126],\n",
       "       [ 2.33028226],\n",
       "       [ 2.94181467],\n",
       "       [ 9.38998415],\n",
       "       [ 9.12520872],\n",
       "       [-5.57296684],\n",
       "       [-6.58312492],\n",
       "       [ 7.8180795 ],\n",
       "       [ 9.18565441],\n",
       "       [-6.39763718],\n",
       "       [-6.05292634],\n",
       "       [10.01781903],\n",
       "       [-6.72638449],\n",
       "       [-6.95293851],\n",
       "       [ 8.54855637],\n",
       "       [-6.53895762],\n",
       "       [-6.0237108 ],\n",
       "       [10.55232269],\n",
       "       [10.57892978],\n",
       "       [10.07140835],\n",
       "       [ 1.55252436],\n",
       "       [-7.73726715],\n",
       "       [-6.09302499],\n",
       "       [-8.20056621],\n",
       "       [-6.6478559 ],\n",
       "       [ 2.23422496],\n",
       "       [ 2.27471703],\n",
       "       [-7.70079191],\n",
       "       [ 9.78172086],\n",
       "       [ 8.72259238],\n",
       "       [ 7.58953794],\n",
       "       [ 8.62920385],\n",
       "       [ 2.30192079],\n",
       "       [-0.01439923],\n",
       "       [-7.81793463],\n",
       "       [ 8.82862715],\n",
       "       [ 0.80449165],\n",
       "       [ 9.21114736],\n",
       "       [ 8.71318243],\n",
       "       [ 2.44676211],\n",
       "       [-6.69547573],\n",
       "       [-6.49479221],\n",
       "       [-5.42657552],\n",
       "       [ 1.47141264],\n",
       "       [ 2.79507219],\n",
       "       [ 1.73858255],\n",
       "       [10.37052616],\n",
       "       [-6.09828672],\n",
       "       [-4.98331661],\n",
       "       [-6.1661091 ],\n",
       "       [ 9.32853346],\n",
       "       [ 7.10100588],\n",
       "       [ 1.45489947],\n",
       "       [ 8.4519986 ],\n",
       "       [-7.59446101],\n",
       "       [ 1.64550754],\n",
       "       [-7.63384576],\n",
       "       [ 1.94665581],\n",
       "       [-4.15994043],\n",
       "       [-8.12584837],\n",
       "       [ 4.4364118 ],\n",
       "       [-7.69591988],\n",
       "       [ 2.48643712],\n",
       "       [ 1.89872377],\n",
       "       [ 1.17089241],\n",
       "       [-6.53366138],\n",
       "       [-6.22355598],\n",
       "       [ 7.25124597],\n",
       "       [ 1.46969403],\n",
       "       [-6.46732867],\n",
       "       [ 1.06378223],\n",
       "       [-8.02307989],\n",
       "       [ 2.1477475 ],\n",
       "       [ 2.04173266],\n",
       "       [ 8.36916637],\n",
       "       [ 1.65110817],\n",
       "       [ 7.79344248],\n",
       "       [-6.40627667],\n",
       "       [ 7.9565752 ],\n",
       "       [ 7.054616  ],\n",
       "       [ 8.78850983],\n",
       "       [ 3.52310409],\n",
       "       [ 8.29444192],\n",
       "       [ 0.50965474],\n",
       "       [ 1.67416233],\n",
       "       [ 2.72510272],\n",
       "       [ 7.60198243],\n",
       "       [ 4.16362531],\n",
       "       [10.86656431],\n",
       "       [ 9.62596242],\n",
       "       [ 9.94556625],\n",
       "       [ 2.37722054],\n",
       "       [-5.82630754],\n",
       "       [ 8.70507375]])"
      ]
     },
     "execution_count": 22,
     "metadata": {},
     "output_type": "execute_result"
    }
   ],
   "source": [
    "x"
   ]
  },
  {
   "cell_type": "code",
   "execution_count": 16,
   "id": "ecfae7db",
   "metadata": {},
   "outputs": [
    {
     "name": "stderr",
     "output_type": "stream",
     "text": [
      "c:\\users\\archi\\appdata\\local\\programs\\python\\python39\\lib\\site-packages\\seaborn\\_decorators.py:36: FutureWarning: Pass the following variables as keyword args: x, y. From version 0.12, the only valid positional argument will be `data`, and passing other arguments without an explicit keyword will result in an error or misinterpretation.\n",
      "  warnings.warn(\n"
     ]
    },
    {
     "data": {
      "image/png": "[encoded data removed]",
      "text/plain": [
       "<Figure size 432x288 with 1 Axes>"
      ]
     },
     "metadata": {
      "needs_background": "light"
     },
     "output_type": "display_data"
    }
   ],
   "source": [
    "sns.scatterplot(X[:,0],X[:,1],hue=y_gen)\n",
    "\n",
    "\n",
    "for center in model.cluster_centers_:\n",
    "    plt.scatter(center[0],center[1],s=60)"
   ]
  },
  {
   "cell_type": "code",
   "execution_count": 17,
   "id": "993b3a0d",
   "metadata": {},
   "outputs": [],
   "source": [
    "import random"
   ]
  },
  {
   "cell_type": "code",
   "execution_count": 18,
   "id": "af822230",
   "metadata": {},
   "outputs": [],
   "source": [
    "class Cluster:\n",
    "    \n",
    "    def __init__(self, center):\n",
    "        self.center = center\n",
    "        self.points = []\n",
    "    \n",
    "    def distance(self, point):\n",
    "        return np.sqrt(np.sum((point - self.center) ** 2))\n",
    "        \n",
    "\n",
    "class CustomKMeans:\n",
    "    \n",
    "    def __init__(self, n_clusters=3, max_iters=20):\n",
    "        self.n_clusters = n_clusters\n",
    "        self.max_iters = max_iters\n",
    "    \n",
    "    def fit(self, X):\n",
    "        \n",
    "        clusters = []\n",
    "        for i in range(self.n_clusters):\n",
    "            cluster = Cluster(center=random.choice(X))\n",
    "            clusters.append(cluster)\n",
    "            \n",
    "        \n",
    "        \n",
    "        for i in range(self.max_iters):\n",
    "            \n",
    "            labels = []\n",
    "        \n",
    "            # going for each point\n",
    "            for point in X:\n",
    "\n",
    "                # collecting disctances form every cluster\n",
    "                distances = []\n",
    "                for cluster in clusters:\n",
    "                    distances.append(cluster.distance(point))\n",
    "\n",
    "                # finding closest cluster\n",
    "                closest_idx = np.argmin(distances)\n",
    "                closest_cluster = clusters[closest_idx]\n",
    "                closest_cluster.points.append(point)\n",
    "                labels.append(closest_idx)\n",
    "\n",
    "            for cluster in clusters:\n",
    "                cluster.center = np.mean(cluster.points, axis=0)\n",
    "            \n",
    "        self.labels_ = labels  \n",
    "        self.cluster_centers_ = [cluster.center for cluster in clusters]"
   ]
  },
  {
   "cell_type": "code",
   "execution_count": 19,
   "id": "4c904f90",
   "metadata": {},
   "outputs": [],
   "source": [
    "model = CustomKMeans(n_clusters=2)\n",
    "\n",
    "model.fit(X)"
   ]
  },
  {
   "cell_type": "code",
   "execution_count": 20,
   "id": "9ad48987",
   "metadata": {},
   "outputs": [
    {
     "name": "stderr",
     "output_type": "stream",
     "text": [
      "c:\\users\\archi\\appdata\\local\\programs\\python\\python39\\lib\\site-packages\\seaborn\\_decorators.py:36: FutureWarning: Pass the following variables as keyword args: x, y. From version 0.12, the only valid positional argument will be `data`, and passing other arguments without an explicit keyword will result in an error or misinterpretation.\n",
      "  warnings.warn(\n"
     ]
    },
    {
     "data": {
      "text/plain": [
       "<AxesSubplot:>"
      ]
     },
     "execution_count": 20,
     "metadata": {},
     "output_type": "execute_result"
    },
    {
     "data": {
      "image/png": "[encoded data removed]",
      "text/plain": [
       "<Figure size 432x288 with 1 Axes>"
      ]
     },
     "metadata": {
      "needs_background": "light"
     },
     "output_type": "display_data"
    }
   ],
   "source": [
    "sns.scatterplot(X[:, 0], X[:, 1], hue=model.labels_)"
   ]
  }
 ],
 "metadata": {
  "kernelspec": {
   "display_name": "Python 3 (ipykernel)",
   "language": "python",
   "name": "python3"
  },
  "language_info": {
   "codemirror_mode": {
    "name": "ipython",
    "version": 3
   },
   "file_extension": ".py",
   "mimetype": "text/x-python",
   "name": "python",
   "nbconvert_exporter": "python",
   "pygments_lexer": "ipython3",
   "version": "3.9.0"
  }
 },
 "nbformat": 4,
 "nbformat_minor": 5
}
